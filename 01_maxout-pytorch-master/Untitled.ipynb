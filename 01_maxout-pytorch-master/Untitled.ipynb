{
 "cells": [
  {
   "cell_type": "code",
   "execution_count": 7,
   "id": "dbbede2e-fc89-4ef7-960d-3af5bee43696",
   "metadata": {},
   "outputs": [],
   "source": [
    "import torch"
   ]
  },
  {
   "cell_type": "code",
   "execution_count": 8,
   "id": "2db362c1-dd6d-4218-a05b-bdccf15c9336",
   "metadata": {},
   "outputs": [],
   "source": [
    "a = torch.tensor([1, 2])"
   ]
  },
  {
   "cell_type": "code",
   "execution_count": 9,
   "id": "bb18f0b2-6637-4fa1-a522-2e16997cb261",
   "metadata": {},
   "outputs": [],
   "source": [
    "a = torch.autograd.Variable(a).cuda(0)"
   ]
  },
  {
   "cell_type": "code",
   "execution_count": 10,
   "id": "6ce494ce-9349-45ad-820e-d98b49cb491b",
   "metadata": {
    "tags": []
   },
   "outputs": [
    {
     "data": {
      "text/plain": [
       "tensor([1, 2], device='cuda:0')"
      ]
     },
     "execution_count": 10,
     "metadata": {},
     "output_type": "execute_result"
    }
   ],
   "source": [
    "a.data"
   ]
  },
  {
   "cell_type": "code",
   "execution_count": 11,
   "id": "878291c1-8f57-4f94-bf7d-9b6396e52c78",
   "metadata": {},
   "outputs": [
    {
     "data": {
      "text/plain": [
       "tensor(1, device='cuda:0')"
      ]
     },
     "execution_count": 11,
     "metadata": {},
     "output_type": "execute_result"
    }
   ],
   "source": [
    "a.data[0]"
   ]
  },
  {
   "cell_type": "code",
   "execution_count": 13,
   "id": "d2d3f2f2-2d65-481a-a6dc-01b75eeb56ff",
   "metadata": {},
   "outputs": [],
   "source": [
    "b = torch.tensor(1)"
   ]
  },
  {
   "cell_type": "code",
   "execution_count": 14,
   "id": "e6e49a3e-497f-4e7b-a536-001b954291ac",
   "metadata": {},
   "outputs": [
    {
     "data": {
      "text/plain": [
       "1"
      ]
     },
     "execution_count": 14,
     "metadata": {},
     "output_type": "execute_result"
    }
   ],
   "source": [
    "b.item()"
   ]
  },
  {
   "cell_type": "code",
   "execution_count": null,
   "id": "4379c0a4-5951-4979-980f-1776ecabd152",
   "metadata": {},
   "outputs": [],
   "source": []
  }
 ],
 "metadata": {
  "kernelspec": {
   "display_name": "Python 3 (ipykernel)",
   "language": "python",
   "name": "python3"
  },
  "language_info": {
   "codemirror_mode": {
    "name": "ipython",
    "version": 3
   },
   "file_extension": ".py",
   "mimetype": "text/x-python",
   "name": "python",
   "nbconvert_exporter": "python",
   "pygments_lexer": "ipython3",
   "version": "3.9.13"
  }
 },
 "nbformat": 4,
 "nbformat_minor": 5
}
